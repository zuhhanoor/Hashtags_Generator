{
 "cells": [
  {
   "cell_type": "code",
   "execution_count": 13,
   "id": "32771c06",
   "metadata": {},
   "outputs": [
    {
     "name": "stdout",
     "output_type": "stream",
     "text": [
      " Instagram Hashtag Generator\n",
      "Enter your keyword (e.g. cat hoodie): cat hoodie\n",
      "\n",
      " Your Hashtags:\n",
      "\n",
      "#cathoodie #cathoodielove #cathoodiestyle #cathoodievibes #cathoodietrend #cathoodiedaily #cathoodieaesthetic #viralcathoodie #cathoodielife #cathoodiepost #instadaily #explorepage #ootd #reels #viralreels #trendingnow #fashionblogger #contentcreator #supportsmallbusiness\n",
      "\n",
      " Save to file? (y/n): hashtags_generator\n"
     ]
    }
   ],
   "source": [
    "def generate_hashtags(keyword):\n",
    "    keyword = keyword.lower().replace(\" \", \"\")\n",
    "    \n",
    "    base_tags = [\n",
    "        f\"#{keyword}\",\n",
    "        f\"#{keyword}love\",\n",
    "        f\"#{keyword}style\",\n",
    "        f\"#{keyword}vibes\",\n",
    "        f\"#{keyword}trend\",\n",
    "        f\"#{keyword}daily\",\n",
    "        f\"#{keyword}aesthetic\",\n",
    "        f\"#viral{keyword}\",\n",
    "        f\"#{keyword}life\",\n",
    "        f\"#{keyword}post\"\n",
    "    ]\n",
    "\n",
    "    extra_tags = [\n",
    "        \"#instadaily\", \"#explorepage\", \"#ootd\", \"#reels\", \"#viralreels\",\n",
    "        \"#trendingnow\", \"#fashionblogger\", \"#contentcreator\", \"#supportsmallbusiness\"\n",
    "    ]\n",
    "\n",
    "    hashtags = base_tags + extra_tags\n",
    "    return hashtags\n",
    "\n",
    "\n",
    "def save_to_file(hashtags, filename=\"hashtags.txt\"):\n",
    "    with open(filename, \"w\") as f:\n",
    "        f.write(\" \".join(hashtags))\n",
    "    print(f\"\\n Hashtags saved to {filename}\")\n",
    "\n",
    "\n",
    "def main():\n",
    "    print(\" Instagram Hashtag Generator\")\n",
    "    keyword = input(\"Enter your keyword (e.g. cat hoodie): \")\n",
    "\n",
    "    tags = generate_hashtags(keyword)\n",
    "\n",
    "    print(\"\\n Your Hashtags:\\n\")\n",
    "    print(\" \".join(tags))\n",
    "\n",
    "    save = input(\"\\n Save to file? (y/n): \").lower()\n",
    "    if save == \"y\":\n",
    "        save_to_file(tags)\n",
    "\n",
    "\n",
    "if __name__ == \"__main__\":\n",
    "    main()\n"
   ]
  }
 ],
 "metadata": {
  "kernelspec": {
   "display_name": "Python 3 (ipykernel)",
   "language": "python",
   "name": "python3"
  },
  "language_info": {
   "codemirror_mode": {
    "name": "ipython",
    "version": 3
   },
   "file_extension": ".py",
   "mimetype": "text/x-python",
   "name": "python",
   "nbconvert_exporter": "python",
   "pygments_lexer": "ipython3",
   "version": "3.9.7"
  }
 },
 "nbformat": 4,
 "nbformat_minor": 5
}
